{
 "nbformat": 4,
 "nbformat_minor": 0,
 "metadata": {
  "colab": {
   "provenance": []
  },
  "kernelspec": {
   "name": "python3",
   "display_name": "Python 3 (ipykernel)",
   "language": "python"
  },
  "language_info": {
   "name": "python"
  }
 },
 "cells": [
  {
   "cell_type": "markdown",
   "source": [
    "#Задача 1\n",
    "Написать функцию на вход которой подается строка, состоящая из латинских букв.\n",
    "Функция должна вернуть количество гласных букв (a, e, i, o, u) в этой строке. Написать тесты для кода"
   ],
   "metadata": {
    "id": "M-DGa20PaHnu"
   }
  },
  {
   "cell_type": "code",
   "source": [
    "def count_letters(s: str) -> dict:\n",
    "    letters = {'a': 0, 'e': 0, 'i': 0, 'o': 0, 'u': 0}\n",
    "    for letter in s.lower():\n",
    "        if letter in letters.keys():\n",
    "            letters[letter] += 1\n",
    "    return letters\n",
    "\n",
    "assert count_letters('hello') == {'a': 0, 'e': 1, 'i': 0, 'o': 1, 'u': 0}\n"
   ],
   "metadata": {
    "id": "XvX8X_JJ6PCb",
    "ExecuteTime": {
     "end_time": "2024-07-08T15:30:31.008379Z",
     "start_time": "2024-07-08T15:30:31.003462Z"
    }
   },
   "outputs": [],
   "execution_count": 21
  },
  {
   "cell_type": "markdown",
   "source": [
    "# Задача 2\n",
    "Написать функцию на вход, которой подается строка. Функция должна вернуть true, если\n",
    "каждый символ в строке встречается только 1 раз, иначе должна вернуть false. Написать тесты для кода"
   ],
   "metadata": {
    "id": "t2ClV_Y0bbr6"
   }
  },
  {
   "cell_type": "code",
   "source": [
    "def unique_chars(s: str) -> bool:\n",
    "    return len(s) == len(set(s))\n",
    "\n",
    "assert unique_chars('hello') == False\n",
    "assert unique_chars('world') == True"
   ],
   "metadata": {
    "id": "FppbECao6VIz",
    "ExecuteTime": {
     "end_time": "2024-07-08T15:28:38.551350Z",
     "start_time": "2024-07-08T15:28:38.547398Z"
    }
   },
   "outputs": [
    {
     "name": "stdout",
     "output_type": "stream",
     "text": [
      "True\n"
     ]
    }
   ],
   "execution_count": 16
  },
  {
   "cell_type": "markdown",
   "source": [
    "# Задача 3\n",
    "Написать функцию, которая принимает положительное число и возвращает количество\n",
    "бит равных 1 в этом числе. Написать тесты для кода"
   ],
   "metadata": {
    "id": "udRiIK1cdt6E"
   }
  },
  {
   "cell_type": "code",
   "source": [
    "def bits(n):\n",
    "    if n > 0:\n",
    "        sum = 0\n",
    "        for bit in bin(n):\n",
    "            if bit == '1':\n",
    "                sum += 1\n",
    "\n",
    "        return sum\n",
    "    else:\n",
    "        print('Вводимое число должно быть больше 0')\n",
    "\n",
    "\n",
    "assert bits(4) == 1\n",
    "assert bits(3) == 2"
   ],
   "metadata": {
    "id": "6tkfDJRz6dp_",
    "ExecuteTime": {
     "end_time": "2024-07-09T06:50:17.865473Z",
     "start_time": "2024-07-09T06:50:17.858867Z"
    }
   },
   "outputs": [],
   "execution_count": 26
  },
  {
   "cell_type": "markdown",
   "source": [
    "# Задача 4\n",
    "Написать функцию, которая принимает положительное число. Функция должна вернуть то,\n",
    "сколько раз необходимо перемножать цифры числа или результат перемножения, чтобы\n",
    "получилось число состоящее из одной цифры.\n",
    "Например, для входного числа:\n",
    "· 39 функция должна вернуть 3, так как 3*9=27 => 2*7=14 => 1*4=4\n",
    "· 4 функция должна вернуть 0, так как число уже состоит из одной цифры\n",
    "· 999 функция должна вернуть 4, так как 9*9*9=729 => 7*2*9=126 => 1*2*6=12 =>\n",
    "1*2=2. Написать тесты для кода"
   ],
   "metadata": {
    "id": "26dDUz-Ae17N"
   }
  },
  {
   "cell_type": "code",
   "source": [
    "def magic(n):\n",
    "    n = str(n)\n",
    "    counts= 0\n",
    "\n",
    "    while len(n) > 1:\n",
    "        res = 1\n",
    "        for num in n:\n",
    "            res *= int(num)\n",
    "        counts += 1\n",
    "        n = str(res)\n",
    "\n",
    "    return counts\n",
    "\n",
    "assert(magic(39)) == 3\n",
    "assert(magic(999)) == 4\n",
    "assert(magic(32)) == 1"
   ],
   "metadata": {
    "id": "BH1A_Mgi6i4G"
   },
   "execution_count": null,
   "outputs": []
  },
  {
   "cell_type": "markdown",
   "source": [
    "# Задача 5\n",
    "Написать функцию, которая принимает два целочисленных вектора одинаковой длины и\n",
    "возвращает среднеквадратическое отклонение двух векторов. Написать тесты для кода"
   ],
   "metadata": {
    "id": "0nS-kIa8g8vd"
   }
  },
  {
   "cell_type": "code",
   "source": [
    "def mse(first_vector: list, second_vector: list) -> int:\n",
    "    n = len(first_vector)\n",
    "\n",
    "    square = sum((first_vector[i] - second_vector[i]) ** 2 for i in range(n))\n",
    "\n",
    "    mean = square/n\n",
    "    deviation = mean**0.5\n",
    "\n",
    "    return deviation\n",
    "\n",
    "assert mse([7, 8, 9, 10], [12, 13, 14, 15]) == 5"
   ],
   "metadata": {
    "id": "8iphx4LM6xbx"
   },
   "execution_count": null,
   "outputs": []
  },
  {
   "cell_type": "markdown",
   "source": [
    "# Задача 6\n",
    "Написать функцию, принимающая целое положительное число. Функция должна вернуть\n",
    "строку вида “(n1**p1)(n2**p2)…(nk**pk)” представляющая разложение числа на простые\n",
    "множители (если pi == 1, то выводить только ni).\n",
    "Например, для числа 86240 функция должна вернуть “(2**5)(5)(7**2)(11)”. Написать тесты для кода"
   ],
   "metadata": {
    "id": "vpIPKL439zkw"
   }
  },
  {
   "cell_type": "code",
   "source": [
    "def s_factors(n):\n",
    "    factors = []\n",
    "    div = 2\n",
    "    while n > 1:\n",
    "        if n % div == 0:\n",
    "            counts = 0\n",
    "            while n % div == 0:\n",
    "                n //= div\n",
    "                counts += 1\n",
    "            factors.append((div, counts))\n",
    "        div += 1\n",
    "    return factors\n",
    "\n",
    "def to_string(n):\n",
    "    factors = s_factors(n)\n",
    "    res = \"\"\n",
    "    for factor, count in factors:\n",
    "        res += f\"({factor})\" if count == 1 else f\"({factor}**{count})\"\n",
    "    return res\n",
    "\n",
    "assert(to_string(86240)) == \"(2**5)(5)(7**2)(11)\"\n",
    "assert(to_string(2)) == \"(2)\"\n"
   ],
   "metadata": {
    "id": "pFebmcZk94Jw"
   },
   "execution_count": null,
   "outputs": []
  },
  {
   "cell_type": "markdown",
   "source": [
    "# Задача 7\n",
    "Написать функцию, принимающая целое число n, задающее количество кубиков. Функция\n",
    "должна определить, можно ли из данного кол-ва кубиков построить пирамиду, то есть\n",
    "можно ли представить число n как 1^2+2^2+3^2+…+k^2. Если можно, то функция должна\n",
    "вернуть k, иначе строку “It is impossible”. Написать тесты для кода"
   ],
   "metadata": {
    "id": "ps2s0BudX7A2"
   }
  },
  {
   "cell_type": "code",
   "source": [
    "def pyramid(number: int) -> int:\n",
    "    i = 1\n",
    "    while True:\n",
    "        number -= i ** 2\n",
    "        if number > 0:\n",
    "            i += 1\n",
    "        elif number == 0:\n",
    "            return i\n",
    "        else:\n",
    "            return(\"It is impossible\")\n",
    "\n",
    "assert pyramid(14)==3\n",
    "assert pyramid(30)==4\n",
    "assert pyramid(4)==\"It is impossible\""
   ],
   "metadata": {
    "id": "3YPjEXxhX_YT"
   },
   "execution_count": null,
   "outputs": []
  },
  {
   "cell_type": "markdown",
   "source": [
    "# Задача 8\n",
    "Функция принимает на вход положительное число и определяет является ли оно сбалансированным, т.е. сумма цифр до средних равна сумме цифр после. Средними в случае нечетного числа цифр считать одну цифру, в случае четного - две средних. Написать тесты для кода"
   ],
   "metadata": {
    "id": "KeKgmIdAQMEJ"
   }
  },
  {
   "cell_type": "code",
   "source": [
    "def is_balance(n: int) -> bool:\n",
    "    str_n = str(n)\n",
    "    l = len(str_n)\n",
    "    if l % 2 == 0:\n",
    "        middle = l // 2\n",
    "        s1 = s2 =0\n",
    "        for i in range(middle - 1):\n",
    "            s1 += int(str_n[i])\n",
    "        for j in range(middle + 1, l):\n",
    "            s2 += int(str_n[j])\n",
    "        return True if s1 == s2 else False\n",
    "    else:\n",
    "        middle = l // 2\n",
    "        s1 = s2 = 0\n",
    "        for i in range(middle):\n",
    "            s1 += int(str_n[i])\n",
    "        for j in range(middle + 1, l):\n",
    "            s2 += int(str_n[j])\n",
    "        return True if s1 == s2 else False\n",
    "\n",
    "assert(is_balance(771124521177)) == True\n",
    "assert(is_balance(123421)) == True\n",
    "assert(is_balance(141)) == True\n",
    "assert(is_balance(143421)) == False\n",
    "assert(is_balance(142)) == False# Your code goes here"
   ],
   "metadata": {
    "id": "gMAAqtqlQrZt"
   },
   "execution_count": null,
   "outputs": []
  }
 ]
}
